{
 "cells": [
  {
   "cell_type": "code",
   "execution_count": 65,
   "metadata": {},
   "outputs": [],
   "source": [
    "import pandas as pd\n",
    "import numpy as np"
   ]
  },
  {
   "cell_type": "code",
   "execution_count": 66,
   "metadata": {},
   "outputs": [],
   "source": [
    "#Reading users file:\n",
    "u_cols = ['users_id','age','sex','occupation','zip_code']\n",
    "users = pd.read_csv('ml-100k/u.user', sep='|', \\\n",
    "                    names=u_cols,encoding='latin-1')\n",
    "\n",
    "#Reading ratings file:\n",
    "r_cols = ['user_id','movie_id','rating','unix_timestamp']\n",
    "data = pd.read_csv('ml-100k/u.data',sep='\\t',names=r_cols,\\\n",
    "                     encoding='latin-1')\n",
    "\n",
    "#Reading items file:\n",
    "i_cols = ['movie_id','movie_title','release_date','video_release_date',\\\n",
    "         'IMDB_URL','unknown','Action','Adventure','Animation',\\\n",
    "         'Children\\'s', 'Comedy', 'Crime', 'Documentary', 'Drama',\\\n",
    "         'Fantasy','Film-Noir', 'Horror', 'Musical', 'Mystery',\\\n",
    "         'Romance','Sci-Fi', 'Thriller', 'War', 'Western']\n",
    "items = pd.read_csv('ml-100k/u.item',sep='|',names=i_cols,\\\n",
    "                    encoding='latin-1')"
   ]
  },
  {
   "cell_type": "code",
   "execution_count": 67,
   "metadata": {},
   "outputs": [
    {
     "name": "stdout",
     "output_type": "stream",
     "text": [
      "\n",
      "Users:\n",
      "\n",
      "    users_id  age sex  occupation zip_code\n",
      "0         1   24   M  technician    85711\n",
      "1         2   53   F       other    94043\n",
      "2         3   23   M      writer    32067\n",
      "3         4   24   M  technician    43537\n",
      "4         5   33   F       other    15213\n",
      "\n",
      "\n",
      "Data:\n",
      "\n",
      "    user_id  movie_id  rating  unix_timestamp\n",
      "0      196       242       3       881250949\n",
      "1      186       302       3       891717742\n",
      "2       22       377       1       878887116\n",
      "3      244        51       2       880606923\n",
      "4      166       346       1       886397596\n",
      "\n",
      "\n",
      "Items:\n",
      "\n",
      "    movie_id        movie_title release_date  video_release_date  \\\n",
      "0         1   Toy Story (1995)  01-Jan-1995                 NaN   \n",
      "1         2   GoldenEye (1995)  01-Jan-1995                 NaN   \n",
      "2         3  Four Rooms (1995)  01-Jan-1995                 NaN   \n",
      "3         4  Get Shorty (1995)  01-Jan-1995                 NaN   \n",
      "4         5     Copycat (1995)  01-Jan-1995                 NaN   \n",
      "\n",
      "                                            IMDB_URL  unknown  Action  \\\n",
      "0  http://us.imdb.com/M/title-exact?Toy%20Story%2...        0       0   \n",
      "1  http://us.imdb.com/M/title-exact?GoldenEye%20(...        0       1   \n",
      "2  http://us.imdb.com/M/title-exact?Four%20Rooms%...        0       0   \n",
      "3  http://us.imdb.com/M/title-exact?Get%20Shorty%...        0       1   \n",
      "4  http://us.imdb.com/M/title-exact?Copycat%20(1995)        0       0   \n",
      "\n",
      "   Adventure  Animation  Children's   ...     Fantasy  Film-Noir  Horror  \\\n",
      "0          0          1           1   ...           0          0       0   \n",
      "1          1          0           0   ...           0          0       0   \n",
      "2          0          0           0   ...           0          0       0   \n",
      "3          0          0           0   ...           0          0       0   \n",
      "4          0          0           0   ...           0          0       0   \n",
      "\n",
      "   Musical  Mystery  Romance  Sci-Fi  Thriller  War  Western  \n",
      "0        0        0        0       0         0    0        0  \n",
      "1        0        0        0       0         1    0        0  \n",
      "2        0        0        0       0         1    0        0  \n",
      "3        0        0        0       0         0    0        0  \n",
      "4        0        0        0       0         1    0        0  \n",
      "\n",
      "[5 rows x 24 columns]\n"
     ]
    }
   ],
   "source": [
    "print(\"\\nUsers:\\n\\n\",users.head())\n",
    "print(\"\\n\\nData:\\n\\n\",data.head())\n",
    "print(\"\\n\\nItems:\\n\\n\",items.head())"
   ]
  },
  {
   "cell_type": "code",
   "execution_count": 68,
   "metadata": {},
   "outputs": [
    {
     "name": "stdout",
     "output_type": "stream",
     "text": [
      "Users Shape: (943, 5)\n"
     ]
    }
   ],
   "source": [
    "print(\"Users Shape:\",users.shape)"
   ]
  },
  {
   "cell_type": "code",
   "execution_count": 69,
   "metadata": {},
   "outputs": [],
   "source": [
    "r_cols = ['user_id','movie_id','rating','unix_timestamp']\n",
    "users_train = (data.sort_values('user_id'))[:99832]\n",
    "users_test = (data.sort_values('user_id'))[99833:]"
   ]
  },
  {
   "cell_type": "code",
   "execution_count": 70,
   "metadata": {},
   "outputs": [
    {
     "name": "stdout",
     "output_type": "stream",
     "text": [
      "\n",
      "Users Train set:\n",
      "\n",
      "        user_id  movie_id  rating  unix_timestamp\n",
      "73676      942       479       4       891283118\n",
      "67222      942       604       4       891283139\n",
      "95675      942       478       5       891283017\n",
      "85822      942       659       5       891283161\n",
      "68192      942       487       4       891282985\n",
      "\n",
      "Users Test set:\n",
      "\n",
      "        user_id  movie_id  rating  unix_timestamp\n",
      "91841      943       132       3       888639093\n",
      "91810      943       204       3       888639117\n",
      "77956      943        94       4       888639929\n",
      "87415      943        53       3       888640067\n",
      "77609      943       124       3       875501995\n"
     ]
    }
   ],
   "source": [
    "print(\"\\nUsers Train set:\\n\\n\",users_train.tail())\n",
    "print(\"\\nUsers Test set:\\n\\n\",users_test.head())"
   ]
  },
  {
   "cell_type": "code",
   "execution_count": 71,
   "metadata": {},
   "outputs": [],
   "source": [
    "u_train = users_train.as_matrix(columns = ['user_id',\\\n",
    "                                           'movie_id','rating',\\\n",
    "                                           'unix_timestamp'])\n",
    "u_test = users_test.as_matrix(columns = ['user_id',\\\n",
    "                                          'movie_id','rating',\\\n",
    "                                          'unix_timestamp'])"
   ]
  },
  {
   "cell_type": "code",
   "execution_count": 74,
   "metadata": {},
   "outputs": [],
   "source": [
    "users_list = []\n",
    "for i in range(1,943):\n",
    "    list1 = []\n",
    "    for j in range(0, len(u_train)):\n",
    "        if(u_train[j][0] == i):\n",
    "            list1.append(u_train[j])\n",
    "        else:\n",
    "            break\n",
    "        u_train = u_train[j:]\n",
    "        users_list.append(list1)"
   ]
  },
  {
   "cell_type": "code",
   "execution_count": 75,
   "metadata": {
    "collapsed": true
   },
   "outputs": [],
   "source": [
    "def EucledianScore(train_user, test_user):\n",
    "    sum1 = 0\n",
    "    count = 0\n",
    "    for i in test_user:\n",
    "        score = 0\n",
    "        for j in train_user:\n",
    "            if(int(i[1]) == int(j[1])):\n",
    "                score = ((float(i[2]) - float(j[2])) * (float(i[2]) -\\\n",
    "                          float(j[2])))\n",
    "                count+=1\n",
    "            sum1+=score\n",
    "    if(count<4):\n",
    "        sum = 1000000\n",
    "    return(math.sqrt(sum1))"
   ]
  }
 ],
 "metadata": {
  "kernelspec": {
   "display_name": "Python 3",
   "language": "python",
   "name": "python3"
  },
  "language_info": {
   "codemirror_mode": {
    "name": "ipython",
    "version": 3
   },
   "file_extension": ".py",
   "mimetype": "text/x-python",
   "name": "python",
   "nbconvert_exporter": "python",
   "pygments_lexer": "ipython3",
   "version": "3.6.3"
  }
 },
 "nbformat": 4,
 "nbformat_minor": 2
}
