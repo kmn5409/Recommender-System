{
 "cells": [
  {
   "cell_type": "code",
   "execution_count": 1,
   "metadata": {
    "collapsed": true
   },
   "outputs": [],
   "source": [
    "import pandas as pd\n",
    "import numpy as np\n",
    "from sklearn.naive_bayes import MultinomialNB\n",
    "from sklearn.metrics import accuracy_score\n",
    "from sklearn.model_selection import train_test_split\n",
    "from time import time\n",
    "import matplotlib.pyplot as plt\n",
    "import random\n",
    "from random import randint"
   ]
  },
  {
   "cell_type": "code",
   "execution_count": 2,
   "metadata": {},
   "outputs": [],
   "source": [
    "#1622\n",
    "#User 564\n",
    "#Reading users file:\n",
    "u_cols = ['user_id','age','sex','occupation','zip_code']\n",
    "users = pd.read_csv('ml-100k/u.user', sep='|', \\\n",
    "                    names=u_cols,encoding='latin-1')\n",
    "\n",
    "#valid_users = [564, 566, 567, 568, 569, 570, 571, 572, 573, 574, 575, 576, 577, 578, 579, 580, 581, 582, 583, 584, 586, 588, 589, 590, 591, 593, 594, 595, 596, 597, 598, 599, 600, 601, 602, 603, 604, 605, 606, 607, 608, 609, 610, 611, 612, 613, 614, 615, 616, 617, 618, 619, 620, 621, 622, 623, 624, 625, 626, 627, 628, 629, 630, 631, 632, 633, 634, 635, 636, 637, 638, 639, 640, 641, 642, 643, 644, 645, 646, 647, 649, 651, 652, 653, 654, 656, 657, 658, 659, 660, 661, 663, 664, 665, 666, 667, 668, 669, 670, 671, 672, 673, 674, 677, 678, 679, 680, 681, 683, 684, 685, 686, 687, 688, 689, 690, 691, 692, 693, 694, 695, 696, 697, 698, 700, 701, 702, 703, 704, 705, 706, 708, 709, 710, 711, 712, 714, 715, 716, 717, 718, 719, 720, 721, 722, 723, 724, 725, 726, 728, 729, 730, 731, 732, 734, 735, 736, 737, 738, 739, 740, 741, 742, 743, 744, 745, 746, 748, 749, 750, 752, 753, 754, 755, 757, 758, 759, 760, 761, 763, 764, 765, 766, 767, 768, 769, 770, 771, 772, 773, 774, 775, 776, 777, 778, 779, 780, 781, 783, 784, 785, 786, 788, 789, 790, 791, 792, 793, 794, 795, 796, 797, 798, 799, 800, 801, 802, 803, 804, 806, 807, 808, 809, 810, 811, 812, 813, 814, 815, 816, 817, 818, 819, 820, 821, 822, 823, 824, 825, 826, 827, 829, 830, 831, 832, 834, 836, 837, 838, 841, 842, 843, 844, 845, 846, 847, 848, 849, 850, 852, 853, 855, 856, 857, 858, 859, 860, 861, 862, 864, 865, 866, 867, 868, 869, 871, 872, 873, 874, 875, 876, 877, 878, 879, 881, 882, 884, 885, 886, 887, 888, 889, 890, 891, 892, 893, 895, 897, 898, 899, 900, 902, 903, 904, 905, 906, 907, 908, 909, 910, 911, 912, 913, 914, 915, 917, 919, 920, 921, 922, 923, 924, 925, 926, 927, 928, 929, 930, 931, 932, 933, 934, 935, 936, 937, 938, 939, 940, 941, 942, 943]\n",
    "#Reading ratings file:\n",
    "r_cols = ['user_id','movie_id','rating','unix_timestamp']\n",
    "rating = pd.read_csv('ml-100k/u.data',sep='\\t',names=r_cols,\\\n",
    "                     encoding='latin-1')\n",
    "\n",
    "#Reading the movie file:\n",
    "item_cols = ['movie_id','movie title','release date',\n",
    "'video release date','IMDb URL','unknown','Action',\n",
    "'Adventure','Animation','Childrens','Comedy','Crime',\n",
    "'Documentary','Drama','Fantasy','Film-Noir','Horror',\n",
    "'Musical','Mystery','Romance ','Sci-Fi','Thriller',\n",
    "'War' ,'Western']\n",
    "\n",
    "movies = pd.read_csv('ml-100k/u.item', sep='|',names=item_cols,\\\n",
    "                   encoding='latin-1')\n",
    "\n",
    "movies.dropna()\n",
    "movies_prof = movies[['movie_id','movie title','release date']].copy()\n",
    "movies_prof1 = movies_prof.copy()\n",
    "#print(movies_prof1.head())\n",
    "movies_prof1['release date'] = pd.to_datetime(movies_prof1['release date'])\n",
    "movies_prof1 = movies_prof1.sort_values(['release date'])\n",
    "#print(movies_prof1)\n",
    "profit = pd.DataFrame(columns=['movie_id','Profit'])\n",
    "#print(\"Here\")\n",
    "#print(movies_prof1.head())\n",
    "#early = int(str(movies_prof1['release date'].iloc[-1])[7:11])\n",
    "last = \"NaT\"\n",
    "j = -1\n",
    "while(last == \"NaT\"):\n",
    "    last = str(movies_prof1['release date'].values[j])\n",
    "    j-=1\n",
    "#print(\"Latest Year: \", last)\n",
    "last = int(last[:4])"
   ]
  },
  {
   "cell_type": "code",
   "execution_count": 3,
   "metadata": {
    "scrolled": false
   },
   "outputs": [],
   "source": [
    "for j,i in zip(movies_prof1['movie_id'],movies_prof1['release date']):\n",
    "    date = str(i)\n",
    "    if(date == 'NaT'):\n",
    "        sum = 0\n",
    "    else:\n",
    "        #Profit calculation\n",
    "        year = int(date[:4])\n",
    "        gamma = 0.5\n",
    "        if(year == last ):\n",
    "            sum = 1\n",
    "        else:\n",
    "            sum = (gamma)**(last-year)\n",
    "        #print(sum)\n",
    "        sum1 = pd.DataFrame([[j,sum]],columns=['movie_id','Profit'])\n",
    "    profit = profit.append(sum1)\n",
    "#print(profit)\n",
    "movies_prof2 = pd.merge(profit,movies_prof1)\n",
    "#print(movies_prof2.head())\n",
    "#print(movies_prof2.tail())"
   ]
  },
  {
   "cell_type": "code",
   "execution_count": 4,
   "metadata": {
    "scrolled": false
   },
   "outputs": [],
   "source": [
    "#print(rating.head())\n",
    "df2  = rating.copy()\n",
    "\n",
    "df2.head()\n",
    "\n",
    "groups = df2.groupby(\"user_id\", as_index=False)\n",
    "k = 0\n",
    "columns = ['user_id','age','sex','movie_id']\n",
    "#print(users)\n",
    "df_users = pd.DataFrame(columns=columns)\n",
    "#print(df_user)\n",
    "for group in groups:\n",
    "    toy_stor = group\n",
    "    toy_story = toy_stor[1].copy()\n",
    "    #print((toy_story) )\n",
    "    movie_num = toy_story['movie_id'].iloc[0]\n",
    "    users_rating = users.copy()\n",
    "    df_1_toy = users.copy()\n",
    "    #df_1_toy.occupation.unique()\n",
    "\n",
    "    user_movie = pd.merge(df_1_toy,toy_story)\n",
    "    #print(\"Sigh\\n\",user_movie)\n",
    "    \n",
    "\n",
    "    #user_movie = user_movie.drop(['unix_timestamp','rating','zip_code'],axis=1)\n",
    "    #print(user_movie.head())\n",
    "    user_movie = user_movie.loc[user_movie['rating'] >= 3]\n",
    "    #print(user_movie.head())\n",
    "    user_movie = user_movie.drop(['unix_timestamp','rating','zip_code','occupation'],axis=1)\n",
    "    \n",
    "    df_users = df_users.append(user_movie)\n",
    "        \n",
    "    k+=1\n",
    "\n",
    "#print(\"right here\")\n",
    "df_users = df_users.reset_index(drop=True)\n",
    "size = df_users.loc[df_users['user_id'] < 564].shape[0]\n",
    "df_users = df_users[:size].copy()\n",
    "df_users.sex.replace(['M', 'F'], [1, 0], inplace=True)\n",
    "#print(df_users)"
   ]
  },
  {
   "cell_type": "code",
   "execution_count": 5,
   "metadata": {},
   "outputs": [],
   "source": [
    "labels_train = df_users[['movie_id','user_id']].copy()\n",
    "labels_train = labels_train.set_index('user_id')\n",
    "#print(labels_train.head())\n",
    "#print(\"\\nlabels_train\\n\")\n",
    "#print(labels_train.head())\n",
    "#print(\"sort:\")\n",
    "labels_train = pd.Series(df_users['movie_id'].values,\\\n",
    "                         index=df_users['user_id'])\n",
    "labels_train = labels_train.rename(\"movie_id\")\n",
    "labels_train= labels_train.\\\n",
    "apply(pd.to_numeric, errors='coerce')\n",
    "labels_train = labels_train.sort_values()\n",
    "#print(labels_train.head())\n",
    "df_user = df_users.copy()\n",
    "df_user = df_user.sort_values(by=['movie_id'])\n",
    "df_user = df_user.drop(['movie_id'],axis=1)\n",
    "#print(df_users.set_index('user_id'))\n",
    "#df_users = df_users.set_index('user_id')\n",
    "#print(df_user)\n",
    "#print(\"here\")\n",
    "#print(\"Labels size\",len(labels_train))\n",
    "#print(labels_train.loc[labels_train['movie_id'] == 586].shape[0])\n",
    "#print(df_user.head())\n",
    "df_user = df_user.set_index('user_id')\n",
    "#print(df_user.head())"
   ]
  },
  {
   "cell_type": "code",
   "execution_count": 6,
   "metadata": {
    "collapsed": true
   },
   "outputs": [],
   "source": [
    "movies1 = labels_train.unique()\n",
    "movies1 = movies1.tolist()"
   ]
  },
  {
   "cell_type": "code",
   "execution_count": 7,
   "metadata": {},
   "outputs": [
    {
     "data": {
      "text/plain": [
       "MultinomialNB(alpha=1.0, class_prior=None, fit_prior=True)"
      ]
     },
     "execution_count": 7,
     "metadata": {},
     "output_type": "execute_result"
    }
   ],
   "source": [
    "GNB = MultinomialNB()\n",
    "t0 = time()\n",
    "#print(labels_train.head())\n",
    "#print(labels_train.tail())\n",
    "#print(df_user.head())\n",
    "#print(df_user.tail())\n",
    "GNB.fit(df_user,labels_train)"
   ]
  },
  {
   "cell_type": "markdown",
   "metadata": {},
   "source": [
    "# Predictions\n",
    "This goes about predicting the movies that users should watch using the Multinomial Naive Bayes Model."
   ]
  },
  {
   "cell_type": "code",
   "execution_count": 8,
   "metadata": {
    "scrolled": true
   },
   "outputs": [
    {
     "name": "stdout",
     "output_type": "stream",
     "text": [
      "Movies sorted 1483\n"
     ]
    }
   ],
   "source": [
    "#for i in [563,566,567,568]:\n",
    "#print(movies1[:10])\n",
    "movies_sort = movies1.copy()\n",
    "#print(movies_sort[:11])\n",
    "movies_sort.sort()\n",
    "\n",
    "#print(movies_sort[:11])\n",
    "genre = ['video release date','IMDb URL','unknown','Action',\\\n",
    "            'Adventure','Animation','Childrens','Comedy','Crime',\\\n",
    "            'Documentary','Drama','Fantasy','Film-Noir','Horror',\\\n",
    "            'Musical','Mystery','Romance ','Sci-Fi','Thriller',\\\n",
    "            'War' ,'Western']\n",
    "valid_users = [564, 566, 567, 568, 569, 570, 571, 572, 573, 575, 576, 577, 578, 579, 580, 581, 582, 583, 584, 586, 588, 589, 590, 591, 593, 594, 595, 596, 597, 598, 599, 600, 601, 602, 603, 604, 605, 606, 607, 608, 610, 611, 612, 613, 614, 615, 616, 617, 618, 619, 620, 621, 623, 624, 625, 626, 627, 628, 629, 630, 631, 632, 633, 634, 635, 636, 638, 639, 640, 641, 643, 645, 646, 647, 649, 651, 652, 653, 654, 656, 657, 658, 659, 660, 661, 664, 665, 666, 667, 668, 669, 670, 671, 672, 673, 674, 677, 678, 679, 680, 683, 684, 685, 686, 687, 688, 689, 690, 691, 692, 693, 695, 696, 697, 698, 700, 701, 702, 703, 704, 706, 709, 710, 711, 712, 714, 715, 716, 717, 718, 719, 720, 721, 722, 723, 725, 726, 728, 729, 730, 731, 732, 734, 735, 736, 737, 738, 740, 741, 742, 743, 744, 745, 746, 748, 749, 750, 752, 753, 754, 755, 757, 759, 760, 763, 764, 765, 766, 767, 768, 769, 770, 771, 772, 773, 774, 775, 777, 778, 779, 780, 781, 783, 784, 785, 786, 788, 789, 790, 791, 792, 794, 795, 796, 797, 800, 801, 802, 803, 806, 807, 808, 809, 810, 811, 812, 813, 814, 815, 816, 817, 818, 819, 820, 821, 822, 823, 824, 825, 826, 827, 829, 830, 831, 832, 834, 836, 837, 838, 841, 843, 844, 848, 849, 850, 852, 853, 855, 856, 857, 858, 859, 860, 861, 862, 865, 866, 872, 873, 874, 875, 876, 877, 878, 879, 881, 884, 885, 886, 888, 889, 890, 891, 892, 893, 895, 897, 898, 899, 900, 902, 903, 904, 905, 906, 907, 908, 909, 910, 911, 912, 913, 914, 915, 917, 919, 920, 922, 923, 924, 926, 927, 928, 929, 930, 931, 933, 934, 935, 937, 938, 939, 940, 941, 942, 943]\n",
    "#valid_users = [564,566,567,568,569]\n",
    "print(\"Movies sorted\",len(movies_sort))\n",
    "year = []\n",
    "prob = []\n",
    "#print(tot_prob)\n",
    "#print(tot_prof)\n",
    "#for i in [563,566,567]:\n",
    "#for i in range(563,943):\n",
    "#for i in valid_users:\n",
    "for iter1 in range(20):\n",
    "    random_movie = movies_sort.copy()\n",
    "    i = random.choice(valid_users)\n",
    "    i-=1\n",
    "    valid_users.remove(i+1)\n",
    "    #print(\"yeah\")\n",
    "    df_sugg = pd.DataFrame(columns = ['user_id','age','sex'])\n",
    "    df_user = users.iloc[i].copy()\n",
    "    df_user = df_user.drop(['occupation','zip_code'], axis=0)\n",
    "    #print(df_user)\n",
    "    #print(type(df_user))\n",
    "    #df_user = df_user.set_index('user_id')\n",
    "    if(df_user['sex'] == 'M'):\n",
    "        df_user['sex'] = 1\n",
    "    else:\n",
    "        df_user['sex'] = 0\n",
    "    df_sugg = df_sugg.append(df_user)\n",
    "    #print(df_sugg)\n",
    "    df_sugg = df_sugg.set_index('user_id')\n",
    "    nb_pred = GNB.predict(df_sugg)\n",
    "    approx_pred = GNB.predict_proba(df_sugg)\n",
    "    proba = approx_pred[0].copy()\n",
    "    proba1 = proba.copy()\n",
    "    #print(proba)\n",
    "    #print(type(proba))\n",
    "    if(i== 563):\n",
    "        print(df_sugg)\n",
    "    #list1 = [j for j in range(1,1484)]\n",
    "    mov = pd.DataFrame(proba,columns=['Probability'])\n",
    "    mov['movie_id'] = None\n",
    "    for j in range(len(movies1)):\n",
    "        mov.loc[j,'movie_id'] = movies1[j]\n",
    "    mov = mov.sort_values(['Probability'],ascending=False)\n",
    "    #print(mov)\n",
    "    tot = mov['Probability'].sum()\n",
    "    #print(mov)\n",
    "    combine = pd.merge(mov,movies_prof2,how='outer')\n",
    "    #combine = combine.drop('release date',axis=1)\n",
    "    #print(combine)\n",
    "    y=0\n",
    "    if(i == 600 or i == 700 or i ==800 or i == 901):\n",
    "        print(df_sugg)\n",
    "    combine['R_y'] = combine['Profit'] * combine['Probability']\n",
    "    if('Star Wars' not in combine['movie title'][0]):\n",
    "        print(df_sugg)\n",
    "        print(combine['movie title'][0])\n",
    "    rand_mov = randint(0,len(movies_sort))\n",
    "    for i_mov in range(20):\n",
    "        rand_mov = random.choice(random_movie)\n",
    "        random_movie.remove(rand_mov)\n",
    "        prob.append(float(combine.loc[combine['movie_id'] == rand_mov]['Probability'].values))\n",
    "        #year.append(str(combine.loc[combine['movie_id'] == rand_mov]['movie title']))\n",
    "        str1 = ((combine.loc[combine['movie_id'] == rand_mov]['release date']).values)\n",
    "        year.append(str(str1)[2:6])\n",
    "        \n",
    "    #print(df_sugg,\"\\n\",combine['Probability'][rand_mov],combine['release date'][rand_mov])\n",
    "    #print(combine[:15])\n",
    "    #print(\"\\n\\n\\n\")\n",
    "    m = 0"
   ]
  },
  {
   "cell_type": "code",
   "execution_count": 10,
   "metadata": {},
   "outputs": [
    {
     "name": "stdout",
     "output_type": "stream",
     "text": [
      "400\n",
      "400\n"
     ]
    }
   ],
   "source": [
    "print(len(prob))\n",
    "print(len(year))"
   ]
  },
  {
   "cell_type": "code",
   "execution_count": 11,
   "metadata": {},
   "outputs": [
    {
     "data": {
      "image/png": "[encoded data removed]",
      "text/plain": [
       "<matplotlib.figure.Figure at 0x7f7e8ddeb5f8>"
      ]
     },
     "metadata": {},
     "output_type": "display_data"
    }
   ],
   "source": [
    "plt.plot(year,prob,'ro')\n",
    "#ax.xaxis.set_minor_locator(plt.MultipleLocator(1960))\n",
    "#plt.rcParams[\"figure.figsize\"] = [20,25]\n",
    "plt.show()"
   ]
  },
  {
   "cell_type": "markdown",
   "metadata": {},
   "source": [
    "# User Ratings\n",
    "This outputs the actual user ratings that people submitted"
   ]
  },
  {
   "cell_type": "code",
   "execution_count": 12,
   "metadata": {
    "scrolled": false
   },
   "outputs": [
    {
     "name": "stdout",
     "output_type": "stream",
     "text": [
      "1483\n",
      "**************************************** Actual User Rating ****************************************\n",
      "User_num: 564\n",
      "\n",
      "\n",
      "181 Return of the Jedi (1983) 4\n",
      "300 Air Force One (1997) 4\n",
      "127 Godfather, The (1972) 4\n",
      "118 Twister (1996) 4\n",
      "117 Rock, The (1996) 4\n",
      "245 Devil's Own, The (1997) 4\n",
      "313 Titanic (1997) 4\n",
      "292 Rosewood (1997) 4\n",
      "50 Star Wars (1977) 4\n",
      "289 Evita (1996) 4\n",
      "597 Eraser (1996) 4\n",
      "258 Contact (1997) 4\n",
      "345 Deconstructing Harry (1997) 4\n",
      "344 Apostle, The (1997) 4\n",
      "257 Men in Black (1997) 4\n",
      "472 Dragonheart (1996) 4\n",
      "121 Independence Day (ID4) (1996) 4\n",
      "827 Daylight (1996) 3\n",
      "924 White Squall (1996) 3\n",
      "302 L.A. Confidential (1997) 3\n",
      "281 River Wild, The (1994) 3\n",
      "685 Executive Decision (1996) 3\n",
      "750 Amistad (1997) 3\n",
      "272 Good Will Hunting (1997) 3\n",
      "298 Face/Off (1997) 3\n",
      "831 Escape from L.A. (1996) 3\n",
      "1034 Quest, The (1996) 3\n",
      "312 Midnight in the Garden of Good and Evil (1997) 3\n",
      "930 Chain Reaction (1996) 3\n",
      "333 Game, The (1997) 3\n",
      "323 Dante's Peak (1997) 3\n",
      "1025 Fire Down Below (1997) 2\n",
      "1016 Con Air (1997) 2\n",
      "1399 Stranger in the House (1997) 2\n"
     ]
    }
   ],
   "source": [
    "groups = df2.groupby(\"user_id\", as_index=False)\n",
    "#print(movies1)\n",
    "k=1\n",
    "user_num=0\n",
    "index = user_num\n",
    "print(len(movies1))\n",
    "#valid_users = []\n",
    "for group in groups:\n",
    "    #print(group)\n",
    "    #print(len(group))\n",
    "    #if(k == 564 or k == 566 or k == 567):\n",
    "    if(k == 564):\n",
    "    #if(k > 563):\n",
    "        #print(\"User_num: \",group[0])\n",
    "        toy_stor = group\n",
    "        #print(toy_stor)\n",
    "        toy_story = toy_stor[1].copy()\n",
    "        #print(toy_story['movie_id'].tolist())\n",
    "        #print(movies1)\n",
    "        if(set(toy_story['movie_id'].tolist()).issubset(movies1) == False):\n",
    "            k+=1\n",
    "            continue\n",
    "        else:\n",
    "            #print(movies1)\n",
    "            valid_users.append(group[0])\n",
    "            #print(movies1.sort())\n",
    "            #print(toy_story)\n",
    "            df_user1 = toy_story.copy()\n",
    "            #print(\"here\")\n",
    "            #print(df_user1)\n",
    "            movie_user1 = pd.merge(df_user1,movies)\n",
    "            movie_user1 = movie_user1.drop(genre,axis=1)\n",
    "            movie_user2 = movie_user1.copy()\n",
    "            movie_user2 = movie_user2.sort_values(\"rating\",ascending=False)\n",
    "            movie_user2 = movie_user2.reset_index(drop=True)\n",
    "\n",
    "            #print(len(movie_user2))\n",
    "            #print(len(movie_user2.loc[movie_user1['rating'] >= 3]))\n",
    "            print(\"*\"*40,\"Actual User Rating\",\"*\"*40)\n",
    "            print(\"User_num:\",group[0])\n",
    "            print(\"\\n\")\n",
    "            for i in range(len(movie_user2)):\n",
    "                print(movie_user2['movie_id'][i],\\\n",
    "                      movie_user2['movie title'][i],\\\n",
    "                      movie_user2['rating'][i])\n",
    "                j=0\n",
    "    k+=1\n",
    "    #if(k == 567):\n",
    "    #    break\n",
    "#print(valid_users)"
   ]
  }
 ],
 "metadata": {
  "kernelspec": {
   "display_name": "Python 3",
   "language": "python",
   "name": "python3"
  },
  "language_info": {
   "codemirror_mode": {
    "name": "ipython",
    "version": 3
   },
   "file_extension": ".py",
   "mimetype": "text/x-python",
   "name": "python",
   "nbconvert_exporter": "python",
   "pygments_lexer": "ipython3",
   "version": "3.6.3"
  }
 },
 "nbformat": 4,
 "nbformat_minor": 2
}
